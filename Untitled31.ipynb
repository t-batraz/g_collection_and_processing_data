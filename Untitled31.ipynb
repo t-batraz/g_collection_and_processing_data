{
 "cells": [
  {
   "cell_type": "markdown",
   "metadata": {
    "colab_type": "text",
    "id": "MeS6ONIPHa3N"
   },
   "source": [
    "# HW2\n",
    "Необходимо собрать информацию о вакансиях на вводимую должность (используем input или через аргументы) с сайта superjob.ru и hh.ru.  \n",
    "Приложение должно анализировать несколько страниц сайта(также вводим через input или аргументы).   \n",
    "Получившийся список должен содержать в себе минимум:  \n",
    "*Наименование вакансии  \n",
    "*Предлагаемую зарплату (отдельно мин. и отдельно макс. и отдельно валюта)  \n",
    "*Ссылку на саму вакансию  \n",
    "*Сайт откуда собрана вакансия  \n",
    "По своему желанию можно добавить еще работодателя и расположение.  \n",
    "Данная структура должна быть одинаковая для вакансий с обоих сайтов.  \n",
    "Общий результат можно вывести с помощью dataFrame через pandas."
   ]
  },
  {
   "cell_type": "code",
   "execution_count": 1,
   "metadata": {
    "colab": {},
    "colab_type": "code",
    "id": "BpHWFauzEs7I"
   },
   "outputs": [],
   "source": [
    "import requests\n",
    "from bs4 import BeautifulSoup as bs\n",
    "from pprint import pprint"
   ]
  },
  {
   "cell_type": "code",
   "execution_count": 2,
   "metadata": {
    "colab": {},
    "colab_type": "code",
    "id": "ywdHxdRqE3ph"
   },
   "outputs": [],
   "source": [
    "def HH_pars(proffesion, page=0):\n",
    "  main_link = 'https://hh.ru'\n",
    "  add_link = '/search/vacancy'\n",
    "  params = {'L_save_area':'true',\n",
    "            'clusters':'true',\n",
    "            'enable_snippets':'true',\n",
    "            'search_field':'name',\n",
    "            'text':proffesion,\n",
    "            'showClusters':'false',\n",
    "            'page':page}\n",
    "  header = {'user-agent':'Mozilla/5.0 (Windows NT 10.0; Win64; x64) AppleWebKit/537.36 (KHTML, like Gecko) Chrome/84.0.4147.89 Safari/537.36'}\n",
    "  response = requests.get(main_link + add_link,\n",
    "                          params=params,\n",
    "                          headers=header)\n",
    "  soup = bs(response.text, 'lxml')\n",
    "  vak_block = soup.find('div', {'class':'vacancy-serp'})\n",
    "  vak_list = vak_block.find_all('div', {'class':'vacancy-serp-item'})\n",
    "  vaks = []\n",
    "  for vak in vak_list:\n",
    "    vak_data = {}\n",
    "    vak_data['Вакансия'] = vak.find('a',{'class':'bloko-link'}).getText()\n",
    "    vak_data['Ссылка'] = vak.find('a',{'class':'HH-LinkModifier'})['href']\n",
    "    vak_data['Сайт'] = 'hh.ru'\n",
    "    price = vak.find('span',{'data-qa':'vacancy-serp__vacancy-compensation'})\n",
    "    if price:\n",
    "      price = price.getText()\n",
    "      vak_data['Валюта'] = price[-4:].replace(' ', '')\n",
    "      price = price[:-4].replace('\\xa0', '').replace(' ', '')\n",
    "      if price.find('-') > -1:\n",
    "        vak_data['ЗП Мин'] = int(price.split('-')[0])\n",
    "        vak_data['ЗП Макс'] = int(price.split('-')[1])\n",
    "      elif price.find('от') > -1:\n",
    "        vak_data['ЗП Мин'] = int(price[2:])\n",
    "        vak_data['ЗП Макс'] = None\n",
    "      elif price.find('до') > -1:\n",
    "        vak_data['ЗП Мин'] = None\n",
    "        vak_data['ЗП Макс'] = int(price[2:])\n",
    "    else:\n",
    "      vak_data['Валюта'] = None\n",
    "      vak_data['ЗП Мин'] = None\n",
    "      vak_data['ЗП Макс'] = None\n",
    "    vaks.append(vak_data)\n",
    "  if soup.find('a', {'class':'HH-Pager-Controls-Next'}):\n",
    "    vaks += HH_pars(proffesion, page + 1)\n",
    "  return vaks"
   ]
  },
  {
   "cell_type": "code",
   "execution_count": 3,
   "metadata": {
    "colab": {},
    "colab_type": "code",
    "id": "4SmScrmpp5hR"
   },
   "outputs": [],
   "source": [
    "def SJ_pars(proffesion, page=1):\n",
    "  main_link = 'https://russia.superjob.ru'\n",
    "  add_link = '/vacancy/search/'\n",
    "  params = {'keywords':proffesion,\n",
    "            'page':page}\n",
    "  header = {'user-agent':'Mozilla/5.0 (Windows NT 10.0; Win64; x64) AppleWebKit/537.36 (KHTML, like Gecko) Chrome/84.0.4147.89 Safari/537.36'}\n",
    "  response = requests.get(main_link + add_link,\n",
    "                          params=params,\n",
    "                          headers=header)\n",
    "  soup = bs(response.text, 'lxml')\n",
    "  vak_list = soup.find_all('div',{'class':'iJCa5 f-test-vacancy-item _1fma_ _1JhPh _2gFpt _1znz6 _2nteL'})\n",
    "  vaks = []\n",
    "  for vak in vak_list:\n",
    "    vak_data = {}\n",
    "    vak_data['Вакансия'] = vak.find('a').getText()\n",
    "    vak_data['Ссылка'] = main_link + vak.find('a',{'class':'icMQ_'})['href']\n",
    "    vak_data['Сайт'] = 'sj.ru'\n",
    "    price = vak.find('span',{'class':'_3mfro _2Wp8I PlM3e _2JVkc _2VHxz'}).getText().replace('\\xa0',' ')\n",
    "    if price != 'По договорённости':\n",
    "      vak_data['Валюта'] = price[-4:].replace(' ', '')\n",
    "      price = price[:-4].replace('\\xa0', '').replace(' ', '')\n",
    "      if price.find('—') > -1:\n",
    "        vak_data['ЗП Мин'] = int(price.split('—')[0])\n",
    "        vak_data['ЗП Макс'] = int(price.split('—')[1])\n",
    "      elif price.find('от') > -1:\n",
    "        vak_data['ЗП Мин'] = int(price[2:])\n",
    "        vak_data['ЗП Макс'] = None\n",
    "      elif price.find('до') > -1:\n",
    "        vak_data['ЗП Мин'] = None\n",
    "        vak_data['ЗП Макс'] = int(price[2:])\n",
    "    else:\n",
    "      vak_data['Валюта'] = None\n",
    "      vak_data['ЗП Мин'] = None\n",
    "      vak_data['ЗП Макс'] = None\n",
    "    vaks.append(vak_data)\n",
    "  if soup.find('a', {'class':'f-test-button-dalshe'}):\n",
    "    vaks += SJ_pars(proffesion, page + 1)\n",
    "  return vaks"
   ]
  },
  {
   "cell_type": "code",
   "execution_count": 4,
   "metadata": {
    "colab": {},
    "colab_type": "code",
    "id": "NEugL0y9sZ_9"
   },
   "outputs": [],
   "source": [
    "hh_data = HH_pars('data scientist')"
   ]
  },
  {
   "cell_type": "code",
   "execution_count": 5,
   "metadata": {
    "colab": {},
    "colab_type": "code",
    "id": "OihnVZDcEwfH"
   },
   "outputs": [],
   "source": [
    "sj_data = SJ_pars('data scientist')"
   ]
  },
  {
   "cell_type": "code",
   "execution_count": 6,
   "metadata": {
    "colab": {},
    "colab_type": "code",
    "id": "tNmoPfN_9JZR"
   },
   "outputs": [],
   "source": [
    "import pandas as pd"
   ]
  },
  {
   "cell_type": "code",
   "execution_count": 7,
   "metadata": {
    "colab": {},
    "colab_type": "code",
    "id": "0uFVdckMFmHR"
   },
   "outputs": [],
   "source": [
    "df = pd.DataFrame(hh_data + sj_data)"
   ]
  },
  {
   "cell_type": "code",
   "execution_count": 8,
   "metadata": {
    "colab": {
     "base_uri": "https://localhost:8080/",
     "height": 419
    },
    "colab_type": "code",
    "id": "AilCQObBF0N7",
    "outputId": "4f981e79-09da-49d5-93bb-a69594e57c2c"
   },
   "outputs": [
    {
     "data": {
      "text/html": [
       "<div>\n",
       "<style scoped>\n",
       "    .dataframe tbody tr th:only-of-type {\n",
       "        vertical-align: middle;\n",
       "    }\n",
       "\n",
       "    .dataframe tbody tr th {\n",
       "        vertical-align: top;\n",
       "    }\n",
       "\n",
       "    .dataframe thead th {\n",
       "        text-align: right;\n",
       "    }\n",
       "</style>\n",
       "<table border=\"1\" class=\"dataframe\">\n",
       "  <thead>\n",
       "    <tr style=\"text-align: right;\">\n",
       "      <th></th>\n",
       "      <th>Вакансия</th>\n",
       "      <th>Ссылка</th>\n",
       "      <th>Сайт</th>\n",
       "      <th>Валюта</th>\n",
       "      <th>ЗП Мин</th>\n",
       "      <th>ЗП Макс</th>\n",
       "    </tr>\n",
       "  </thead>\n",
       "  <tbody>\n",
       "    <tr>\n",
       "      <th>0</th>\n",
       "      <td>Специалист по углубленной аналитике данных (Da...</td>\n",
       "      <td>https://hh.ru/vacancy/37732722?query=data%20sc...</td>\n",
       "      <td>hh.ru</td>\n",
       "      <td>None</td>\n",
       "      <td>NaN</td>\n",
       "      <td>NaN</td>\n",
       "    </tr>\n",
       "    <tr>\n",
       "      <th>1</th>\n",
       "      <td>Data Scientist</td>\n",
       "      <td>https://hh.ru/vacancy/38200628?query=data%20sc...</td>\n",
       "      <td>hh.ru</td>\n",
       "      <td>None</td>\n",
       "      <td>NaN</td>\n",
       "      <td>NaN</td>\n",
       "    </tr>\n",
       "    <tr>\n",
       "      <th>2</th>\n",
       "      <td>Senior Data Scientist</td>\n",
       "      <td>https://hh.ru/vacancy/38200641?query=data%20sc...</td>\n",
       "      <td>hh.ru</td>\n",
       "      <td>None</td>\n",
       "      <td>NaN</td>\n",
       "      <td>NaN</td>\n",
       "    </tr>\n",
       "    <tr>\n",
       "      <th>3</th>\n",
       "      <td>Data scientist / аналитик данных</td>\n",
       "      <td>https://hh.ru/vacancy/38222141?query=data%20sc...</td>\n",
       "      <td>hh.ru</td>\n",
       "      <td>руб.</td>\n",
       "      <td>120000.0</td>\n",
       "      <td>150000.0</td>\n",
       "    </tr>\n",
       "    <tr>\n",
       "      <th>4</th>\n",
       "      <td>Data Scientist</td>\n",
       "      <td>https://hh.ru/vacancy/38238647?query=data%20sc...</td>\n",
       "      <td>hh.ru</td>\n",
       "      <td>руб.</td>\n",
       "      <td>110000.0</td>\n",
       "      <td>NaN</td>\n",
       "    </tr>\n",
       "    <tr>\n",
       "      <th>...</th>\n",
       "      <td>...</td>\n",
       "      <td>...</td>\n",
       "      <td>...</td>\n",
       "      <td>...</td>\n",
       "      <td>...</td>\n",
       "      <td>...</td>\n",
       "    </tr>\n",
       "    <tr>\n",
       "      <th>274</th>\n",
       "      <td>Ведущий специалист по данным</td>\n",
       "      <td>https://russia.superjob.ru/vakansii/veduschij-...</td>\n",
       "      <td>sj.ru</td>\n",
       "      <td>None</td>\n",
       "      <td>NaN</td>\n",
       "      <td>NaN</td>\n",
       "    </tr>\n",
       "    <tr>\n",
       "      <th>275</th>\n",
       "      <td>Android Developer (Java/Kotlin)</td>\n",
       "      <td>https://russia.superjob.ru/vakansii/android-de...</td>\n",
       "      <td>sj.ru</td>\n",
       "      <td>None</td>\n",
       "      <td>NaN</td>\n",
       "      <td>NaN</td>\n",
       "    </tr>\n",
       "    <tr>\n",
       "      <th>276</th>\n",
       "      <td>Исполнительный директор в IT</td>\n",
       "      <td>https://russia.superjob.ru/vakansii/ispolnitel...</td>\n",
       "      <td>sj.ru</td>\n",
       "      <td>None</td>\n",
       "      <td>NaN</td>\n",
       "      <td>NaN</td>\n",
       "    </tr>\n",
       "    <tr>\n",
       "      <th>277</th>\n",
       "      <td>Data Scientist</td>\n",
       "      <td>https://russia.superjob.ru/vakansii/data-scien...</td>\n",
       "      <td>sj.ru</td>\n",
       "      <td>None</td>\n",
       "      <td>NaN</td>\n",
       "      <td>NaN</td>\n",
       "    </tr>\n",
       "    <tr>\n",
       "      <th>278</th>\n",
       "      <td>Программист/Разработчик 1С</td>\n",
       "      <td>https://russia.superjob.ru/vakansii/programmis...</td>\n",
       "      <td>sj.ru</td>\n",
       "      <td>руб.</td>\n",
       "      <td>130000.0</td>\n",
       "      <td>160000.0</td>\n",
       "    </tr>\n",
       "  </tbody>\n",
       "</table>\n",
       "<p>279 rows × 6 columns</p>\n",
       "</div>"
      ],
      "text/plain": [
       "                                              Вакансия  \\\n",
       "0    Специалист по углубленной аналитике данных (Da...   \n",
       "1                                       Data Scientist   \n",
       "2                                Senior Data Scientist   \n",
       "3                     Data scientist / аналитик данных   \n",
       "4                                       Data Scientist   \n",
       "..                                                 ...   \n",
       "274                       Ведущий специалист по данным   \n",
       "275                    Android Developer (Java/Kotlin)   \n",
       "276                       Исполнительный директор в IT   \n",
       "277                                     Data Scientist   \n",
       "278                         Программист/Разработчик 1С   \n",
       "\n",
       "                                                Ссылка   Сайт Валюта  \\\n",
       "0    https://hh.ru/vacancy/37732722?query=data%20sc...  hh.ru   None   \n",
       "1    https://hh.ru/vacancy/38200628?query=data%20sc...  hh.ru   None   \n",
       "2    https://hh.ru/vacancy/38200641?query=data%20sc...  hh.ru   None   \n",
       "3    https://hh.ru/vacancy/38222141?query=data%20sc...  hh.ru   руб.   \n",
       "4    https://hh.ru/vacancy/38238647?query=data%20sc...  hh.ru   руб.   \n",
       "..                                                 ...    ...    ...   \n",
       "274  https://russia.superjob.ru/vakansii/veduschij-...  sj.ru   None   \n",
       "275  https://russia.superjob.ru/vakansii/android-de...  sj.ru   None   \n",
       "276  https://russia.superjob.ru/vakansii/ispolnitel...  sj.ru   None   \n",
       "277  https://russia.superjob.ru/vakansii/data-scien...  sj.ru   None   \n",
       "278  https://russia.superjob.ru/vakansii/programmis...  sj.ru   руб.   \n",
       "\n",
       "       ЗП Мин   ЗП Макс  \n",
       "0         NaN       NaN  \n",
       "1         NaN       NaN  \n",
       "2         NaN       NaN  \n",
       "3    120000.0  150000.0  \n",
       "4    110000.0       NaN  \n",
       "..        ...       ...  \n",
       "274       NaN       NaN  \n",
       "275       NaN       NaN  \n",
       "276       NaN       NaN  \n",
       "277       NaN       NaN  \n",
       "278  130000.0  160000.0  \n",
       "\n",
       "[279 rows x 6 columns]"
      ]
     },
     "execution_count": 8,
     "metadata": {},
     "output_type": "execute_result"
    }
   ],
   "source": [
    "df"
   ]
  },
  {
   "cell_type": "code",
   "execution_count": 9,
   "metadata": {
    "colab": {
     "base_uri": "https://localhost:8080/",
     "height": 238
    },
    "colab_type": "code",
    "id": "4JkNYpjwGZmj",
    "outputId": "cbd0a9fa-c07e-4df9-d430-50e1602fb8da"
   },
   "outputs": [
    {
     "name": "stdout",
     "output_type": "stream",
     "text": [
      "<class 'pandas.core.frame.DataFrame'>\n",
      "RangeIndex: 279 entries, 0 to 278\n",
      "Data columns (total 6 columns):\n",
      " #   Column    Non-Null Count  Dtype  \n",
      "---  ------    --------------  -----  \n",
      " 0   Вакансия  279 non-null    object \n",
      " 1   Ссылка    279 non-null    object \n",
      " 2   Сайт      279 non-null    object \n",
      " 3   Валюта    46 non-null     object \n",
      " 4   ЗП Мин    37 non-null     float64\n",
      " 5   ЗП Макс   28 non-null     float64\n",
      "dtypes: float64(2), object(4)\n",
      "memory usage: 13.2+ KB\n"
     ]
    }
   ],
   "source": [
    "df.info()"
   ]
  },
  {
   "cell_type": "markdown",
   "metadata": {
    "colab_type": "text",
    "id": "MeS6ONIPHa3N"
   },
   "source": [
    "# HW3\n",
    "1) Развернуть у себя на компьютере/виртуальной машине/хостинге MongoDB и реализовать функцию, записывающую собранные вакансии в созданную БД  \n",
    "2) Написать функцию, которая производит поиск и выводит на экран вакансии с заработной платой больше введенной суммы. Поиск по двум полям (мин и макс зарплату)  \n",
    "3) Написать функцию, которая будет добавлять в вашу базу данных только новые вакансии с сайта  "
   ]
  },
  {
   "cell_type": "code",
   "execution_count": 10,
   "metadata": {},
   "outputs": [],
   "source": [
    "from pymongo import MongoClient"
   ]
  },
  {
   "cell_type": "code",
   "execution_count": 11,
   "metadata": {},
   "outputs": [],
   "source": [
    "def add_all_vac(vacancies):\n",
    "    client = MongoClient('127.0.0.1', 27017)\n",
    "    db = client['hw_vacancies']\n",
    "    t_vac = db.vac\n",
    "    t_vac.insert_many(vacancies)"
   ]
  },
  {
   "cell_type": "code",
   "execution_count": 12,
   "metadata": {},
   "outputs": [],
   "source": [
    "def find_vac(min):\n",
    "    client = MongoClient('127.0.0.1', 27017)\n",
    "    db = client['hw_vacancies']\n",
    "    t_vac = db.vac\n",
    "    for vac in t_vac.find({'$or':[{'ЗП Мин':{'$gte':min}},\n",
    "                                  {'ЗП Макс':{'$gte':min}}]},\n",
    "                          {'Вакансия':1,\n",
    "                           'Валюта':1,\n",
    "                           'ЗП Макс':1,\n",
    "                           'ЗП Мин':1,\n",
    "                           'Сайт':1,\n",
    "                           'Ссылка':1,\n",
    "                           '_id':0}):\n",
    "        pprint(vac)"
   ]
  },
  {
   "cell_type": "code",
   "execution_count": 13,
   "metadata": {},
   "outputs": [],
   "source": [
    "def add_new_vac(vacancies):\n",
    "    client = MongoClient('127.0.0.1', 27017)\n",
    "    db = client['hw_vacancies']\n",
    "    t_vac = db.vac\n",
    "    count_new_vac = 0\n",
    "    for vac in vacancies:\n",
    "        if t_vac.count_documents({'Ссылка':vac['Ссылка']}) == 0:\n",
    "            t_vac.insert_one(vac)\n",
    "            count_new_vac += 1\n",
    "    print('добавлено ' + str(count_new_vac) + ' из ' + str(len(vacancies)))"
   ]
  },
  {
   "cell_type": "code",
   "execution_count": 14,
   "metadata": {},
   "outputs": [],
   "source": [
    "def print_count():\n",
    "    client = MongoClient('127.0.0.1', 27017)\n",
    "    db = client['hw_vacancies']\n",
    "    t_vac = db.vac\n",
    "    print('записей в таблице:' + str(t_vac.count_documents({})))"
   ]
  },
  {
   "cell_type": "code",
   "execution_count": 15,
   "metadata": {},
   "outputs": [],
   "source": [
    "add_all_vac(hh_data[0:10] + sj_data[0:10])"
   ]
  },
  {
   "cell_type": "code",
   "execution_count": 16,
   "metadata": {},
   "outputs": [
    {
     "name": "stdout",
     "output_type": "stream",
     "text": [
      "записей в таблице:20\n"
     ]
    }
   ],
   "source": [
    "print_count()"
   ]
  },
  {
   "cell_type": "code",
   "execution_count": 17,
   "metadata": {},
   "outputs": [
    {
     "name": "stdout",
     "output_type": "stream",
     "text": [
      "добавлено 259 из 279\n"
     ]
    }
   ],
   "source": [
    "add_new_vac(hh_data + sj_data)"
   ]
  },
  {
   "cell_type": "code",
   "execution_count": 18,
   "metadata": {},
   "outputs": [
    {
     "name": "stdout",
     "output_type": "stream",
     "text": [
      "записей в таблице:279\n"
     ]
    }
   ],
   "source": [
    "print_count()"
   ]
  },
  {
   "cell_type": "code",
   "execution_count": 19,
   "metadata": {},
   "outputs": [
    {
     "name": "stdout",
     "output_type": "stream",
     "text": [
      "{'Вакансия': 'ML Developer/Data scientist',\n",
      " 'Валюта': 'KZT',\n",
      " 'ЗП Макс': 900000,\n",
      " 'ЗП Мин': 650000,\n",
      " 'Сайт': 'hh.ru',\n",
      " 'Ссылка': 'https://hh.ru/vacancy/38159690?query=data%20scientist'}\n",
      "{'Вакансия': 'Data scientist (fraud prevention)',\n",
      " 'Валюта': 'руб.',\n",
      " 'ЗП Макс': 200000,\n",
      " 'ЗП Мин': 150000,\n",
      " 'Сайт': 'hh.ru',\n",
      " 'Ссылка': 'https://hh.ru/vacancy/38148625?query=data%20scientist'}\n",
      "{'Вакансия': 'Senior Data Scientist',\n",
      " 'Валюта': 'руб.',\n",
      " 'ЗП Макс': 250000,\n",
      " 'ЗП Мин': 150000,\n",
      " 'Сайт': 'hh.ru',\n",
      " 'Ссылка': 'https://hh.ru/vacancy/38157381?query=data%20scientist'}\n",
      "{'Вакансия': 'Senior Data Scientist',\n",
      " 'Валюта': 'руб.',\n",
      " 'ЗП Макс': None,\n",
      " 'ЗП Мин': 300000,\n",
      " 'Сайт': 'hh.ru',\n",
      " 'Ссылка': 'https://hh.ru/vacancy/37935294?query=data%20scientist'}\n",
      "{'Вакансия': 'Data Scientist (Computer Vision)',\n",
      " 'Валюта': 'руб.',\n",
      " 'ЗП Макс': 200000,\n",
      " 'ЗП Мин': 90000,\n",
      " 'Сайт': 'hh.ru',\n",
      " 'Ссылка': 'https://hh.ru/vacancy/38090271?query=data%20scientist'}\n",
      "{'Вакансия': 'Senior Data Scientist',\n",
      " 'Валюта': 'руб.',\n",
      " 'ЗП Макс': None,\n",
      " 'ЗП Мин': 200000,\n",
      " 'Сайт': 'hh.ru',\n",
      " 'Ссылка': 'https://hh.ru/vacancy/37003152?query=data%20scientist'}\n",
      "{'Вакансия': 'Senior Data Scientist',\n",
      " 'Валюта': 'руб.',\n",
      " 'ЗП Макс': None,\n",
      " 'ЗП Мин': 200000,\n",
      " 'Сайт': 'hh.ru',\n",
      " 'Ссылка': 'https://hh.ru/vacancy/38226025?query=data%20scientist'}\n",
      "{'Вакансия': 'Mid-Senior data scientist',\n",
      " 'Валюта': 'руб.',\n",
      " 'ЗП Макс': 1000000,\n",
      " 'ЗП Мин': 100,\n",
      " 'Сайт': 'hh.ru',\n",
      " 'Ссылка': 'https://hh.ru/vacancy/38296909?query=data%20scientist'}\n",
      "{'Вакансия': 'Senior Data Scientist (в Анапу)',\n",
      " 'Валюта': 'руб.',\n",
      " 'ЗП Макс': 250000,\n",
      " 'ЗП Мин': 150000,\n",
      " 'Сайт': 'hh.ru',\n",
      " 'Ссылка': 'https://hh.ru/vacancy/38321007?query=data%20scientist'}\n",
      "{'Вакансия': 'Senior Data Scientist (в Анапу)',\n",
      " 'Валюта': 'руб.',\n",
      " 'ЗП Макс': 250000,\n",
      " 'ЗП Мин': 150000,\n",
      " 'Сайт': 'hh.ru',\n",
      " 'Ссылка': 'https://hh.ru/vacancy/38321008?query=data%20scientist'}\n",
      "{'Вакансия': 'Senior Data Scientist (в Анапу)',\n",
      " 'Валюта': 'руб.',\n",
      " 'ЗП Макс': 250000,\n",
      " 'ЗП Мин': 150000,\n",
      " 'Сайт': 'hh.ru',\n",
      " 'Ссылка': 'https://hh.ru/vacancy/38321009?query=data%20scientist'}\n",
      "{'Вакансия': 'Senior Data Scientist (в Анапу)',\n",
      " 'Валюта': 'руб.',\n",
      " 'ЗП Макс': 250000,\n",
      " 'ЗП Мин': 150000,\n",
      " 'Сайт': 'hh.ru',\n",
      " 'Ссылка': 'https://hh.ru/vacancy/38321010?query=data%20scientist'}\n",
      "{'Вакансия': 'Senior Data Scientist (в Анапу)',\n",
      " 'Валюта': 'руб.',\n",
      " 'ЗП Макс': 250000,\n",
      " 'ЗП Мин': 150000,\n",
      " 'Сайт': 'hh.ru',\n",
      " 'Ссылка': 'https://hh.ru/vacancy/38321011?query=data%20scientist'}\n",
      "{'Вакансия': 'Data Scientist / Аналитик данных',\n",
      " 'Валюта': 'руб.',\n",
      " 'ЗП Макс': 200000,\n",
      " 'ЗП Мин': None,\n",
      " 'Сайт': 'hh.ru',\n",
      " 'Ссылка': 'https://hh.ru/vacancy/38037985?query=data%20scientist'}\n",
      "{'Вакансия': 'Data scientist',\n",
      " 'Валюта': 'руб.',\n",
      " 'ЗП Макс': 300000,\n",
      " 'ЗП Мин': 200000,\n",
      " 'Сайт': 'hh.ru',\n",
      " 'Ссылка': 'https://hh.ru/vacancy/37821046?query=data%20scientist'}\n",
      "{'Вакансия': 'Data scientist',\n",
      " 'Валюта': 'руб.',\n",
      " 'ЗП Макс': 300000,\n",
      " 'ЗП Мин': 200000,\n",
      " 'Сайт': 'hh.ru',\n",
      " 'Ссылка': 'https://hh.ru/vacancy/37821047?query=data%20scientist'}\n"
     ]
    }
   ],
   "source": [
    "find_vac(2*10**5)"
   ]
  }
 ],
 "metadata": {
  "colab": {
   "name": "Untitled31.ipynb",
   "provenance": []
  },
  "kernelspec": {
   "display_name": "Python 3",
   "language": "python",
   "name": "python3"
  },
  "language_info": {
   "codemirror_mode": {
    "name": "ipython",
    "version": 3
   },
   "file_extension": ".py",
   "mimetype": "text/x-python",
   "name": "python",
   "nbconvert_exporter": "python",
   "pygments_lexer": "ipython3",
   "version": "3.8.3"
  }
 },
 "nbformat": 4,
 "nbformat_minor": 1
}
