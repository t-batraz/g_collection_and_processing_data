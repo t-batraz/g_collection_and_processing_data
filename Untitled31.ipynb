{
  "nbformat": 4,
  "nbformat_minor": 0,
  "metadata": {
    "colab": {
      "name": "Untitled31.ipynb",
      "provenance": []
    },
    "kernelspec": {
      "name": "python3",
      "display_name": "Python 3"
    }
  },
  "cells": [
    {
      "cell_type": "markdown",
      "metadata": {
        "id": "MeS6ONIPHa3N",
        "colab_type": "text"
      },
      "source": [
        "Необходимо собрать информацию о вакансиях на вводимую должность (используем input или через аргументы) с сайта superjob.ru и hh.ru.  \n",
        "Приложение должно анализировать несколько страниц сайта(также вводим через input или аргументы).   \n",
        "Получившийся список должен содержать в себе минимум:  \n",
        "*Наименование вакансии  \n",
        "*Предлагаемую зарплату (отдельно мин. и отдельно макс. и отдельно валюта)  \n",
        "*Ссылку на саму вакансию  \n",
        "*Сайт откуда собрана вакансия  \n",
        "По своему желанию можно добавить еще работодателя и расположение.  \n",
        "Данная структура должна быть одинаковая для вакансий с обоих сайтов.  \n",
        "Общий результат можно вывести с помощью dataFrame через pandas."
      ]
    },
    {
      "cell_type": "code",
      "metadata": {
        "id": "BpHWFauzEs7I",
        "colab_type": "code",
        "colab": {}
      },
      "source": [
        "import requests\n",
        "from bs4 import BeautifulSoup as bs\n",
        "from pprint import pprint"
      ],
      "execution_count": 1,
      "outputs": []
    },
    {
      "cell_type": "code",
      "metadata": {
        "id": "ywdHxdRqE3ph",
        "colab_type": "code",
        "colab": {}
      },
      "source": [
        "def HH_pars(proffesion, page=0):\n",
        "  main_link = 'https://hh.ru'\n",
        "  add_link = '/search/vacancy'\n",
        "  params = {'L_save_area':'true',\n",
        "            'clusters':'true',\n",
        "            'enable_snippets':'true',\n",
        "            'search_field':'name',\n",
        "            'text':proffesion,\n",
        "            'showClusters':'false',\n",
        "            'page':page}\n",
        "  header = {'user-agent':'Mozilla/5.0 (Windows NT 10.0; Win64; x64) AppleWebKit/537.36 (KHTML, like Gecko) Chrome/84.0.4147.89 Safari/537.36'}\n",
        "  response = requests.get(main_link + add_link,\n",
        "                          params=params,\n",
        "                          headers=header)\n",
        "  soup = bs(response.text, 'lxml')\n",
        "  vak_block = soup.find('div', {'class':'vacancy-serp'})\n",
        "  vak_list = vak_block.find_all('div', {'class':'vacancy-serp-item'})\n",
        "  vaks = []\n",
        "  for vak in vak_list:\n",
        "    vak_data = {}\n",
        "    vak_data['Вакансия'] = vak.find('a',{'class':'bloko-link'}).getText()\n",
        "    vak_data['Ссылка'] = vak.find('a',{'class':'HH-LinkModifier'})['href']\n",
        "    vak_data['Сайт'] = 'hh.ru'\n",
        "    price = vak.find('span',{'data-qa':'vacancy-serp__vacancy-compensation'})\n",
        "    if price:\n",
        "      price = price.getText()\n",
        "      vak_data['Валюта'] = price[-4:].replace(' ', '')\n",
        "      price = price[:-4].replace('\\xa0', '').replace(' ', '')\n",
        "      if price.find('-') > -1:\n",
        "        vak_data['ЗП Мин'] = int(price.split('-')[0])\n",
        "        vak_data['ЗП Макс'] = int(price.split('-')[1])\n",
        "      elif price.find('от') > -1:\n",
        "        vak_data['ЗП Мин'] = int(price[2:])\n",
        "        vak_data['ЗП Макс'] = None\n",
        "      elif price.find('до') > -1:\n",
        "        vak_data['ЗП Мин'] = None\n",
        "        vak_data['ЗП Макс'] = int(price[2:])\n",
        "    else:\n",
        "      vak_data['Валюта'] = None\n",
        "      vak_data['ЗП Мин'] = None\n",
        "      vak_data['ЗП Макс'] = None\n",
        "    vaks.append(vak_data)\n",
        "  if soup.find('a', {'class':'HH-Pager-Controls-Next'}):\n",
        "    vaks += HH_pars(proffesion, page + 1)\n",
        "  return vaks"
      ],
      "execution_count": 2,
      "outputs": []
    },
    {
      "cell_type": "code",
      "metadata": {
        "id": "4SmScrmpp5hR",
        "colab_type": "code",
        "colab": {}
      },
      "source": [
        "def SJ_pars(proffesion, page=1):\n",
        "  main_link = 'https://russia.superjob.ru'\n",
        "  add_link = '/vacancy/search/'\n",
        "  params = {'keywords':proffesion,\n",
        "            'page':page}\n",
        "  header = {'user-agent':'Mozilla/5.0 (Windows NT 10.0; Win64; x64) AppleWebKit/537.36 (KHTML, like Gecko) Chrome/84.0.4147.89 Safari/537.36'}\n",
        "  response = requests.get(main_link + add_link,\n",
        "                          params=params,\n",
        "                          headers=header)\n",
        "  soup = bs(response.text, 'lxml')\n",
        "  vak_list = soup.find_all('div',{'class':'iJCa5 f-test-vacancy-item _1fma_ _1JhPh _2gFpt _1znz6 _2nteL'})\n",
        "  vaks = []\n",
        "  for vak in vak_list:\n",
        "    vak_data = {}\n",
        "    vak_data['Вакансия'] = vak.find('a').getText()\n",
        "    vak_data['Ссылка'] = main_link + vak.find('a',{'class':'icMQ_'})['href']\n",
        "    vak_data['Сайт'] = 'sj.ru'\n",
        "    price = vak.find('span',{'class':'_3mfro _2Wp8I PlM3e _2JVkc _2VHxz'}).getText().replace('\\xa0',' ')\n",
        "    if price != 'По договорённости':\n",
        "      vak_data['Валюта'] = price[-4:].replace(' ', '')\n",
        "      price = price[:-4].replace('\\xa0', '').replace(' ', '')\n",
        "      if price.find('—') > -1:\n",
        "        vak_data['ЗП Мин'] = int(price.split('—')[0])\n",
        "        vak_data['ЗП Макс'] = int(price.split('—')[1])\n",
        "      elif price.find('от') > -1:\n",
        "        vak_data['ЗП Мин'] = int(price[2:])\n",
        "        vak_data['ЗП Макс'] = None\n",
        "      elif price.find('до') > -1:\n",
        "        vak_data['ЗП Мин'] = None\n",
        "        vak_data['ЗП Макс'] = int(price[2:])\n",
        "    else:\n",
        "      vak_data['Валюта'] = None\n",
        "      vak_data['ЗП Мин'] = None\n",
        "      vak_data['ЗП Макс'] = None\n",
        "    vaks.append(vak_data)\n",
        "  if soup.find('a', {'class':'f-test-button-dalshe'}):\n",
        "    vaks += SJ_pars(proffesion, page + 1)\n",
        "  return vaks"
      ],
      "execution_count": 3,
      "outputs": []
    },
    {
      "cell_type": "code",
      "metadata": {
        "id": "NEugL0y9sZ_9",
        "colab_type": "code",
        "colab": {}
      },
      "source": [
        "hh_data = HH_pars('data scientist')"
      ],
      "execution_count": 4,
      "outputs": []
    },
    {
      "cell_type": "code",
      "metadata": {
        "id": "OihnVZDcEwfH",
        "colab_type": "code",
        "colab": {}
      },
      "source": [
        "sj_data = SJ_pars('data scientist')"
      ],
      "execution_count": 5,
      "outputs": []
    },
    {
      "cell_type": "code",
      "metadata": {
        "id": "tNmoPfN_9JZR",
        "colab_type": "code",
        "colab": {}
      },
      "source": [
        "import pandas as pd"
      ],
      "execution_count": 6,
      "outputs": []
    },
    {
      "cell_type": "code",
      "metadata": {
        "id": "0uFVdckMFmHR",
        "colab_type": "code",
        "colab": {}
      },
      "source": [
        "df = pd.DataFrame(hh_data + sj_data)"
      ],
      "execution_count": 7,
      "outputs": []
    },
    {
      "cell_type": "code",
      "metadata": {
        "id": "AilCQObBF0N7",
        "colab_type": "code",
        "colab": {
          "base_uri": "https://localhost:8080/",
          "height": 419
        },
        "outputId": "4f981e79-09da-49d5-93bb-a69594e57c2c"
      },
      "source": [
        "df"
      ],
      "execution_count": 8,
      "outputs": [
        {
          "output_type": "execute_result",
          "data": {
            "text/html": [
              "<div>\n",
              "<style scoped>\n",
              "    .dataframe tbody tr th:only-of-type {\n",
              "        vertical-align: middle;\n",
              "    }\n",
              "\n",
              "    .dataframe tbody tr th {\n",
              "        vertical-align: top;\n",
              "    }\n",
              "\n",
              "    .dataframe thead th {\n",
              "        text-align: right;\n",
              "    }\n",
              "</style>\n",
              "<table border=\"1\" class=\"dataframe\">\n",
              "  <thead>\n",
              "    <tr style=\"text-align: right;\">\n",
              "      <th></th>\n",
              "      <th>Вакансия</th>\n",
              "      <th>Ссылка</th>\n",
              "      <th>Сайт</th>\n",
              "      <th>Валюта</th>\n",
              "      <th>ЗП Мин</th>\n",
              "      <th>ЗП Макс</th>\n",
              "    </tr>\n",
              "  </thead>\n",
              "  <tbody>\n",
              "    <tr>\n",
              "      <th>0</th>\n",
              "      <td>Data Scientist</td>\n",
              "      <td>https://hh.ru/vacancy/38200628?query=data%20sc...</td>\n",
              "      <td>hh.ru</td>\n",
              "      <td>None</td>\n",
              "      <td>NaN</td>\n",
              "      <td>NaN</td>\n",
              "    </tr>\n",
              "    <tr>\n",
              "      <th>1</th>\n",
              "      <td>Senior Data Scientist</td>\n",
              "      <td>https://hh.ru/vacancy/38200641?query=data%20sc...</td>\n",
              "      <td>hh.ru</td>\n",
              "      <td>None</td>\n",
              "      <td>NaN</td>\n",
              "      <td>NaN</td>\n",
              "    </tr>\n",
              "    <tr>\n",
              "      <th>2</th>\n",
              "      <td>ML Developer/Data scientist</td>\n",
              "      <td>https://hh.ru/vacancy/38159690?query=data%20sc...</td>\n",
              "      <td>hh.ru</td>\n",
              "      <td>KZT</td>\n",
              "      <td>650000.0</td>\n",
              "      <td>900000.0</td>\n",
              "    </tr>\n",
              "    <tr>\n",
              "      <th>3</th>\n",
              "      <td>Data Scientist</td>\n",
              "      <td>https://hh.ru/vacancy/37782747?query=data%20sc...</td>\n",
              "      <td>hh.ru</td>\n",
              "      <td>руб.</td>\n",
              "      <td>120000.0</td>\n",
              "      <td>180000.0</td>\n",
              "    </tr>\n",
              "    <tr>\n",
              "      <th>4</th>\n",
              "      <td>Data Scientist</td>\n",
              "      <td>https://hh.ru/vacancy/38238647?query=data%20sc...</td>\n",
              "      <td>hh.ru</td>\n",
              "      <td>руб.</td>\n",
              "      <td>110000.0</td>\n",
              "      <td>NaN</td>\n",
              "    </tr>\n",
              "    <tr>\n",
              "      <th>...</th>\n",
              "      <td>...</td>\n",
              "      <td>...</td>\n",
              "      <td>...</td>\n",
              "      <td>...</td>\n",
              "      <td>...</td>\n",
              "      <td>...</td>\n",
              "    </tr>\n",
              "    <tr>\n",
              "      <th>266</th>\n",
              "      <td>Ведущий специалист по данным</td>\n",
              "      <td>https://russia.superjob.ru/vakansii/veduschij-...</td>\n",
              "      <td>sj.ru</td>\n",
              "      <td>None</td>\n",
              "      <td>NaN</td>\n",
              "      <td>NaN</td>\n",
              "    </tr>\n",
              "    <tr>\n",
              "      <th>267</th>\n",
              "      <td>Android Developer (Java/Kotlin)</td>\n",
              "      <td>https://russia.superjob.ru/vakansii/android-de...</td>\n",
              "      <td>sj.ru</td>\n",
              "      <td>None</td>\n",
              "      <td>NaN</td>\n",
              "      <td>NaN</td>\n",
              "    </tr>\n",
              "    <tr>\n",
              "      <th>268</th>\n",
              "      <td>Разработчик Java (senior)</td>\n",
              "      <td>https://russia.superjob.ru/vakansii/razrabotch...</td>\n",
              "      <td>sj.ru</td>\n",
              "      <td>None</td>\n",
              "      <td>NaN</td>\n",
              "      <td>NaN</td>\n",
              "    </tr>\n",
              "    <tr>\n",
              "      <th>269</th>\n",
              "      <td>Data Scientist</td>\n",
              "      <td>https://russia.superjob.ru/vakansii/data-scien...</td>\n",
              "      <td>sj.ru</td>\n",
              "      <td>None</td>\n",
              "      <td>NaN</td>\n",
              "      <td>NaN</td>\n",
              "    </tr>\n",
              "    <tr>\n",
              "      <th>270</th>\n",
              "      <td>Программист / Разработчик 1С</td>\n",
              "      <td>https://russia.superjob.ru/vakansii/programmis...</td>\n",
              "      <td>sj.ru</td>\n",
              "      <td>руб.</td>\n",
              "      <td>130000.0</td>\n",
              "      <td>NaN</td>\n",
              "    </tr>\n",
              "  </tbody>\n",
              "</table>\n",
              "<p>271 rows × 6 columns</p>\n",
              "</div>"
            ],
            "text/plain": [
              "                            Вакансия  ...   ЗП Макс\n",
              "0                     Data Scientist  ...       NaN\n",
              "1              Senior Data Scientist  ...       NaN\n",
              "2        ML Developer/Data scientist  ...  900000.0\n",
              "3                     Data Scientist  ...  180000.0\n",
              "4                     Data Scientist  ...       NaN\n",
              "..                               ...  ...       ...\n",
              "266     Ведущий специалист по данным  ...       NaN\n",
              "267  Android Developer (Java/Kotlin)  ...       NaN\n",
              "268        Разработчик Java (senior)  ...       NaN\n",
              "269                   Data Scientist  ...       NaN\n",
              "270     Программист / Разработчик 1С  ...       NaN\n",
              "\n",
              "[271 rows x 6 columns]"
            ]
          },
          "metadata": {
            "tags": []
          },
          "execution_count": 8
        }
      ]
    },
    {
      "cell_type": "code",
      "metadata": {
        "id": "4JkNYpjwGZmj",
        "colab_type": "code",
        "colab": {
          "base_uri": "https://localhost:8080/",
          "height": 238
        },
        "outputId": "cbd0a9fa-c07e-4df9-d430-50e1602fb8da"
      },
      "source": [
        "df.info()"
      ],
      "execution_count": 9,
      "outputs": [
        {
          "output_type": "stream",
          "text": [
            "<class 'pandas.core.frame.DataFrame'>\n",
            "RangeIndex: 271 entries, 0 to 270\n",
            "Data columns (total 6 columns):\n",
            " #   Column    Non-Null Count  Dtype  \n",
            "---  ------    --------------  -----  \n",
            " 0   Вакансия  271 non-null    object \n",
            " 1   Ссылка    271 non-null    object \n",
            " 2   Сайт      271 non-null    object \n",
            " 3   Валюта    41 non-null     object \n",
            " 4   ЗП Мин    32 non-null     float64\n",
            " 5   ЗП Макс   22 non-null     float64\n",
            "dtypes: float64(2), object(4)\n",
            "memory usage: 12.8+ KB\n"
          ],
          "name": "stdout"
        }
      ]
    }
  ]
}