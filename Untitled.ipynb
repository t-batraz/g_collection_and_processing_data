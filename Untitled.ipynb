{
 "cells": [
  {
   "cell_type": "markdown",
   "metadata": {},
   "source": [
    "1) Написать программу, которая собирает входящие письма из своего или тестового почтового ящика и сложить данные о письмах в базу данных (от кого, дата отправки, тема письма, текст письма полный)  \n",
    "Логин тестового ящика: study.ai_172@mail.ru  \n",
    "Пароль тестового ящика: NextPassword172   \n",
    "2) Написать программу, которая собирает «Хиты продаж» с сайта техники mvideo и складывает данные в БД. Магазины можно выбрать свои.  \n",
    "Главный критерий выбора: динамически загружаемые товары"
   ]
  },
  {
   "cell_type": "code",
   "execution_count": 1,
   "metadata": {},
   "outputs": [],
   "source": [
    "from selenium import webdriver\n",
    "from selenium.webdriver.common.keys import Keys\n",
    "from selenium.webdriver.support.ui import Select\n",
    "from selenium.webdriver.support.ui import WebDriverWait\n",
    "from selenium.webdriver.support import expected_conditions as EC\n",
    "from selenium.webdriver.common.by import By\n",
    "import time\n",
    "from pymongo import MongoClient\n",
    "import json"
   ]
  },
  {
   "cell_type": "markdown",
   "metadata": {},
   "source": [
    "# Mail"
   ]
  },
  {
   "cell_type": "code",
   "execution_count": 2,
   "metadata": {},
   "outputs": [],
   "source": [
    "def get_leters():\n",
    "    driver = webdriver.Chrome()\n",
    "    driver.get('https://mail.ru/')\n",
    "\n",
    "    username = driver.find_element_by_id('mailbox:login')\n",
    "    username.send_keys('study.ai_172@mail.ru')\n",
    "    username.send_keys(Keys.ENTER)\n",
    "\n",
    "    password = WebDriverWait(driver,10).until(\n",
    "        EC.presence_of_element_located((By.ID,'mailbox:password'))\n",
    "    )\n",
    "    password.send_keys('NextPassword172')\n",
    "    password.send_keys(Keys.ENTER)\n",
    "    \n",
    "    leters = []\n",
    "    \n",
    "    WebDriverWait(driver,10).until(\n",
    "        EC.presence_of_element_located((By.CLASS_NAME,'js-tooltip-direction_letter-bottom'))\n",
    "    ).click()\n",
    "    \n",
    "    while True:\n",
    "        leter = {}\n",
    "        leter['от'] = WebDriverWait(driver, 10).until(\n",
    "            EC.presence_of_element_located((By.CLASS_NAME, 'letter-contact'))\n",
    "        ).get_attribute('title')\n",
    "\n",
    "        leter['дата'] = WebDriverWait(driver, 10).until(\n",
    "            EC.presence_of_element_located((By.CLASS_NAME, 'letter__date'))\n",
    "        ).text\n",
    "\n",
    "        leter['тема'] = WebDriverWait(driver, 10).until(\n",
    "            EC.presence_of_element_located((By.CLASS_NAME, 'thread__subject'))\n",
    "        ).text\n",
    "\n",
    "        leter['текст'] = WebDriverWait(driver, 10).until(\n",
    "            EC.presence_of_element_located((By.CLASS_NAME, 'letter-body'))\n",
    "        ).text\n",
    "        leters.append(leter)\n",
    "        try:\n",
    "            WebDriverWait(driver, 10).until(EC.presence_of_element_located((By.CLASS_NAME, 'button2_arrow-down'))).click()\n",
    "            time.sleep(1)#если убрать ожитдание дает оштбку\n",
    "                         #Message: stale element reference: element is not attached to the page document\n",
    "        except:\n",
    "            break\n",
    "    driver.close()\n",
    "    return leters"
   ]
  },
  {
   "cell_type": "code",
   "execution_count": 3,
   "metadata": {},
   "outputs": [],
   "source": [
    "def add_new_let(leters):\n",
    "    client = MongoClient('127.0.0.1', 27017)\n",
    "    db = client['hw_leters']\n",
    "    t_leters = db.leters\n",
    "    count_new_leters = 0\n",
    "    for i in leters:\n",
    "        if t_leters.count_documents(i) == 0:\n",
    "            t_leters.insert_one(i)\n",
    "            count_new_leters += 1\n",
    "    print('добавлено ' + str(count_new_leters) + ' из ' + str(len(leters)))"
   ]
  },
  {
   "cell_type": "code",
   "execution_count": 4,
   "metadata": {},
   "outputs": [],
   "source": [
    "leters = get_leters()"
   ]
  },
  {
   "cell_type": "code",
   "execution_count": 5,
   "metadata": {},
   "outputs": [
    {
     "name": "stdout",
     "output_type": "stream",
     "text": [
      "добавлено 118 из 118\n"
     ]
    }
   ],
   "source": [
    "add_new_let(leters)"
   ]
  },
  {
   "cell_type": "markdown",
   "metadata": {},
   "source": [
    "# mvideo"
   ]
  },
  {
   "cell_type": "code",
   "execution_count": 6,
   "metadata": {},
   "outputs": [],
   "source": [
    "def get_hits_mvideo():\n",
    "    driver = webdriver.Chrome()\n",
    "    driver.get('https://www.mvideo.ru/')\n",
    "    driver.maximize_window()\n",
    "\n",
    "    while True:\n",
    "        try:\n",
    "            WebDriverWait(driver, 10).until(\n",
    "                EC.presence_of_element_located((By.XPATH, \"//div[@class='wrapper']//div[8]//a[@class='next-btn sel-hits-button-next']\"))\n",
    "            ).click()\n",
    "        except:\n",
    "            break\n",
    "        \n",
    "    products = []\n",
    "    for p in driver.find_elements_by_xpath(\"//div[@class='wrapper']//div[8]//li/div/div/div/a\"):\n",
    "        product = json.loads(p.get_attribute('data-product-info'))\n",
    "        product['href'] = p.get_attribute('href')\n",
    "        products.append(product)\n",
    "    driver.close()\n",
    "    return products"
   ]
  },
  {
   "cell_type": "code",
   "execution_count": 7,
   "metadata": {},
   "outputs": [],
   "source": [
    "hits = get_hits_mvideo()"
   ]
  },
  {
   "cell_type": "code",
   "execution_count": 8,
   "metadata": {},
   "outputs": [],
   "source": [
    "def add_new_hitst(hits):\n",
    "    client = MongoClient('127.0.0.1', 27017)\n",
    "    db = client['hw_hits']\n",
    "    t_hits = db.hits\n",
    "    count_new_hits = 0\n",
    "    for i in hits:\n",
    "        if t_hits.count_documents(i) == 0:\n",
    "            t_hits.insert_one(i)\n",
    "            count_new_hits += 1\n",
    "    print('добавлено ' + str(count_new_hits) + ' из ' + str(len(hits)))"
   ]
  },
  {
   "cell_type": "code",
   "execution_count": 9,
   "metadata": {},
   "outputs": [
    {
     "name": "stdout",
     "output_type": "stream",
     "text": [
      "добавлено 16 из 16\n"
     ]
    }
   ],
   "source": [
    "add_new_hitst(hits)"
   ]
  }
 ],
 "metadata": {
  "kernelspec": {
   "display_name": "Python 3",
   "language": "python",
   "name": "python3"
  },
  "language_info": {
   "codemirror_mode": {
    "name": "ipython",
    "version": 3
   },
   "file_extension": ".py",
   "mimetype": "text/x-python",
   "name": "python",
   "nbconvert_exporter": "python",
   "pygments_lexer": "ipython3",
   "version": "3.8.3"
  }
 },
 "nbformat": 4,
 "nbformat_minor": 4
}
