{
 "cells": [
  {
   "cell_type": "markdown",
   "metadata": {
    "colab_type": "text",
    "id": "APGrAr7fjvJR"
   },
   "source": [
    "1)Написать приложение, которое собирает основные новости с сайтов news.mail.ru, lenta.ru, yandex.ru/news\n",
    "Для парсинга использовать xpath. Структура данных должна содержать:  \n",
    "* название источника,  \n",
    "* наименование новости,  \n",
    "* ссылку на новость,  \n",
    "* дата публикации  \n",
    "  \n",
    "2)Сложить все новости в БД  "
   ]
  },
  {
   "cell_type": "code",
   "execution_count": 1,
   "metadata": {
    "colab": {},
    "colab_type": "code",
    "id": "GzrXsKIVjoWC"
   },
   "outputs": [],
   "source": [
    "import requests\n",
    "from lxml import html\n",
    "from pymongo import MongoClient\n",
    "from pprint import pprint\n",
    "import re "
   ]
  },
  {
   "cell_type": "code",
   "execution_count": 2,
   "metadata": {
    "colab": {},
    "colab_type": "code",
    "id": "MC-N_PvK7Y31"
   },
   "outputs": [],
   "source": [
    "def yandex():\n",
    "  main_link = 'https://yandex.ru'\n",
    "  add_link = '/news'\n",
    "  header = {'user-agent':'Mozilla/5.0 (Windows NT 10.0; Win64; x64) AppleWebKit/537.36 (KHTML, like Gecko) Chrome/84.0.4147.89 Safari/537.36'}\n",
    "  response = requests.get(main_link + add_link,\n",
    "                          headers=header)\n",
    "  dom = html.fromstring(response.text)\n",
    "  topic = dom.xpath(\"//div[@class='story__topic']\")\n",
    "  info = dom.xpath(\"//div[@class='story__info']\")\n",
    "  news = []\n",
    "  for i in range(len(info)):\n",
    "    new = {}\n",
    "    new['название'] = topic[i].xpath(\".//a[@class='link link_theme_black i-bem']/text()\")[0]\n",
    "    new['источник'] = info[i].xpath(\".//div[@class='story__date']/text()\")[0][:-5]\n",
    "    new['ссылка'] = main_link + topic[i].xpath(\".//a[@class='link link_theme_black i-bem']/@href\")[0]\n",
    "    new['время'] = info[i].xpath(\".//div[@class='story__date']/text()\")[0][-5:]\n",
    "    news.append(new)\n",
    "  return news"
   ]
  },
  {
   "cell_type": "code",
   "execution_count": 3,
   "metadata": {
    "colab": {},
    "colab_type": "code",
    "id": "RDSLIvKXw1ab"
   },
   "outputs": [],
   "source": [
    "def mail():\n",
    "  main_link = 'https://news.mail.ru'\n",
    "  add_link = ''\n",
    "  header = {'user-agent':'Mozilla/5.0 (Windows NT 10.0; Win64; x64) AppleWebKit/537.36 (KHTML, like Gecko) Chrome/84.0.4147.105 Safari/537.36'}\n",
    "  response = requests.get(main_link + add_link,\n",
    "                          headers=header)\n",
    "  dom = html.fromstring(response.text)\n",
    "  refs = dom.xpath(\"//span[@class='list__text']/a/@href | //a[@class='list__text']/@href | //a[@class='newsitem__title link-holder']/@href | //div[contains(@class,'daynews__item')]/a/@href\")\n",
    "\n",
    "  news = []\n",
    "  for ref in refs:\n",
    "    if 'https://' not in ref:\n",
    "      ref = 'https://news.mail.ru' + ref\n",
    "    new = {}\n",
    "    response_news = requests.get(ref, headers=header)\n",
    "    dom_news = html.fromstring(response_news.text)\n",
    "    new['название'] = (dom_news.xpath(\"//h1[@class='hdr__inner']/text()\"))[0]\n",
    "    new['источник'] = (dom_news.xpath(\"//a[@class='link color_gray breadcrumbs__link']//span[@class='link__text']/text()\"))[0]\n",
    "    new['ссылка'] = ref\n",
    "    new['время'] = dom_news.xpath(\"//span[@class='note__text breadcrumbs__text js-ago']/@datetime\")[0]\n",
    "    news.append(new)\n",
    "  return news"
   ]
  },
  {
   "cell_type": "code",
   "execution_count": 4,
   "metadata": {
    "colab": {},
    "colab_type": "code",
    "id": "m3ntfKRv6krJ"
   },
   "outputs": [],
   "source": [
    "def lenta():\n",
    "  main_link = 'https://lenta.ru'\n",
    "  add_link = ''\n",
    "  header = {'user-agent':'Mozilla/5.0 (Windows NT 10.0; Win64; x64) AppleWebKit/537.36 (KHTML, like Gecko) Chrome/84.0.4147.105 Safari/537.36'}\n",
    "  response = requests.get(main_link + add_link,\n",
    "                          headers=header)\n",
    "  dom = html.fromstring(response.text)\n",
    "  items = dom.xpath(\"//div[contains(@class,'span4')]//div[contains(@class,'item')]//a\")\n",
    "  news = []\n",
    "  for item in items:\n",
    "    new = {}\n",
    "    if len(item.xpath('text()')) > 0 and 'news' in item.xpath('@href')[0] :\n",
    "      new['название'] = item.xpath('text()')[0].replace('\\xa0',' ')\n",
    "      new['источник'] = main_link\n",
    "      new['ссылка'] = item.xpath('@href')[0]\n",
    "      if 'https://' not in new['ссылка']:\n",
    "        new['ссылка'] = main_link + new['ссылка']\n",
    "      if re.search('\\d{4}.\\d{2}.\\d{2}', item.xpath('@href')[0]):\n",
    "        new['время'] = re.search('\\d{4}.\\d{2}.\\d{2}', item.xpath('@href')[0])[0]\n",
    "      else:\n",
    "        new['время'] = re.search('\\d{2}.\\d{2}.\\d{4}', item.xpath('@href')[0])[0]\n",
    "      news.append(new)\n",
    "  return news"
   ]
  },
  {
   "cell_type": "code",
   "execution_count": 5,
   "metadata": {
    "colab": {},
    "colab_type": "code",
    "id": "4drkSHPz6lNl"
   },
   "outputs": [],
   "source": [
    "y = yandex()\n",
    "m = mail()\n",
    "l = lenta()"
   ]
  },
  {
   "cell_type": "code",
   "execution_count": 6,
   "metadata": {
    "colab": {},
    "colab_type": "code",
    "id": "pRAUwHIL6lCt"
   },
   "outputs": [],
   "source": [
    "def add_new_news(news):\n",
    "    client = MongoClient('127.0.0.1', 27017)\n",
    "    db = client['hw_news']\n",
    "    t_news = db.news\n",
    "    count_new_news = 0\n",
    "    for i in news:\n",
    "        if t_news.count_documents({'ссылка':i['ссылка']}) == 0:\n",
    "            t_news.insert_one(i)\n",
    "            count_new_news += 1\n",
    "    print('добавлено ' + str(count_new_news) + ' из ' + str(len(news)))"
   ]
  },
  {
   "cell_type": "code",
   "execution_count": 7,
   "metadata": {
    "colab": {
     "base_uri": "https://localhost:8080/",
     "height": 282
    },
    "colab_type": "code",
    "id": "cNaXMvup6kQI",
    "outputId": "e96f6dde-dd94-43ce-e74b-10583c692cb3"
   },
   "outputs": [
    {
     "name": "stdout",
     "output_type": "stream",
     "text": [
      "добавлено 101 из 107\n"
     ]
    }
   ],
   "source": [
    "add_new_news(y + m + l)"
   ]
  },
  {
   "cell_type": "code",
   "execution_count": 8,
   "metadata": {
    "colab": {},
    "colab_type": "code",
    "id": "rLEbaohcxPEp"
   },
   "outputs": [
    {
     "data": {
      "text/plain": [
       "107"
      ]
     },
     "execution_count": 8,
     "metadata": {},
     "output_type": "execute_result"
    }
   ],
   "source": [
    "len(y) + len(m) + len(l)"
   ]
  }
 ],
 "metadata": {
  "colab": {
   "name": "Untitled33.ipynb",
   "provenance": []
  },
  "kernelspec": {
   "display_name": "Python 3",
   "language": "python",
   "name": "python3"
  },
  "language_info": {
   "codemirror_mode": {
    "name": "ipython",
    "version": 3
   },
   "file_extension": ".py",
   "mimetype": "text/x-python",
   "name": "python",
   "nbconvert_exporter": "python",
   "pygments_lexer": "ipython3",
   "version": "3.8.3"
  }
 },
 "nbformat": 4,
 "nbformat_minor": 1
}
